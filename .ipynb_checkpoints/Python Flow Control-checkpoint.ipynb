{
 "cells": [
  {
   "cell_type": "code",
   "execution_count": 1,
   "id": "638149a7",
   "metadata": {},
   "outputs": [
    {
     "name": "stdout",
     "output_type": "stream",
     "text": [
      "a is equal to 5\n"
     ]
    }
   ],
   "source": [
    "a = 5\n",
    "if a<5:\n",
    "    print('Less than 5')\n",
    "elif a>5:\n",
    "    print('Greater than 5')\n",
    "else:\n",
    "    print('a is equal to 5')"
   ]
  },
  {
   "cell_type": "code",
   "execution_count": 3,
   "id": "faa6036d",
   "metadata": {},
   "outputs": [
    {
     "name": "stdout",
     "output_type": "stream",
     "text": [
      "My name is Bidhan Khatiwada\n"
     ]
    }
   ],
   "source": [
    "#pass\n",
    "def function():\n",
    "    pass\n",
    "print('My name is Bidhan Khatiwada')"
   ]
  },
  {
   "cell_type": "code",
   "execution_count": 11,
   "id": "9c6f8980",
   "metadata": {},
   "outputs": [
    {
     "name": "stdout",
     "output_type": "stream",
     "text": [
      "0 1 2 3 4 5 6 7 8 9 10 11 12 13 14 "
     ]
    }
   ],
   "source": [
    "#Range\n",
    "for i in range(15):\n",
    "    print(i , end = \" \")"
   ]
  },
  {
   "cell_type": "code",
   "execution_count": 13,
   "id": "353eff3a",
   "metadata": {},
   "outputs": [
    {
     "name": "stdout",
     "output_type": "stream",
     "text": [
      "1\n",
      "2\n",
      "3\n",
      "4\n",
      "5\n",
      "i is greater than 6\n"
     ]
    }
   ],
   "source": [
    "i = 1\n",
    "while i < 6:\n",
    "  print(i)\n",
    "  i += 1\n",
    "else:\n",
    "  print(\"i is greater than 6\")"
   ]
  },
  {
   "cell_type": "code",
   "execution_count": 14,
   "id": "f9ebfae0",
   "metadata": {},
   "outputs": [
    {
     "name": "stdout",
     "output_type": "stream",
     "text": [
      "0\n",
      "1\n",
      "2\n"
     ]
    }
   ],
   "source": [
    "#break condition (It  terminate the loop)\n",
    "count = 0\n",
    "\n",
    "while count <= 100:\n",
    "    print (count)\n",
    "    count += 1\n",
    "    if count == 3:\n",
    "        break"
   ]
  },
  {
   "cell_type": "code",
   "execution_count": 16,
   "id": "0f6d9d13",
   "metadata": {},
   "outputs": [
    {
     "name": "stdout",
     "output_type": "stream",
     "text": [
      "0\n",
      "1\n",
      "2\n",
      "4\n"
     ]
    }
   ],
   "source": [
    "#continue condition(It skip the current execution and continue fron the next one)\n",
    "for i in range(0, 5):\n",
    "    if i == 3:\n",
    "        continue\n",
    "    print(i)"
   ]
  },
  {
   "cell_type": "code",
   "execution_count": 19,
   "id": "937fdb11",
   "metadata": {},
   "outputs": [
    {
     "name": "stdout",
     "output_type": "stream",
     "text": [
      "['Bidhan']\n"
     ]
    }
   ],
   "source": [
    "#List comprehension\n",
    "Bidhan = [\"Bidhan\", \"Khatiwada\", \"Pulchowk\", \"Lalitpur\", \"Nepal\"]\n",
    "newlist = []\n",
    "\n",
    "for x in Bidhan:\n",
    "    if \"dh\" in x:\n",
    "        newlist.append(x)\n",
    "\n",
    "print(newlist)\n"
   ]
  },
  {
   "cell_type": "code",
   "execution_count": null,
   "id": "122b929c",
   "metadata": {},
   "outputs": [],
   "source": []
  }
 ],
 "metadata": {
  "kernelspec": {
   "display_name": "Python 3 (ipykernel)",
   "language": "python",
   "name": "python3"
  },
  "language_info": {
   "codemirror_mode": {
    "name": "ipython",
    "version": 3
   },
   "file_extension": ".py",
   "mimetype": "text/x-python",
   "name": "python",
   "nbconvert_exporter": "python",
   "pygments_lexer": "ipython3",
   "version": "3.9.5"
  }
 },
 "nbformat": 4,
 "nbformat_minor": 5
}
