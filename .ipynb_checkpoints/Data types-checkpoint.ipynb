{
 "cells": [
  {
   "cell_type": "code",
   "execution_count": 1,
   "id": "c179dfff",
   "metadata": {},
   "outputs": [
    {
     "name": "stdout",
     "output_type": "stream",
     "text": [
      "Original String:  KHATIWADA\n",
      "KHAT\n",
      "KAIAA\n",
      "AAIAK\n"
     ]
    }
   ],
   "source": [
    "#String Slicing\n",
    "String = 'KHATIWADA'\n",
    "\n",
    "s1=slice(4)\n",
    "s2=slice(0,15,2)\n",
    "s3=slice(-1,-15,-2)\n",
    "\n",
    "print('Original String: ', String)\n",
    "print(String[s1])\n",
    "print(String[s2])\n",
    "print(String[s3])"
   ]
  },
  {
   "cell_type": "code",
   "execution_count": 11,
   "id": "6f663772",
   "metadata": {},
   "outputs": [
    {
     "name": "stdout",
     "output_type": "stream",
     "text": [
      "KHAT\n",
      "KAIAA\n",
      "AAIAK\n"
     ]
    }
   ],
   "source": [
    "#String Slicing using indexing sequence\n",
    "\n",
    "String = 'KHATIWADA'\n",
    "\n",
    "print(String[:4])\n",
    "print(String[0:15:2])\n",
    "print(String[-1:-15:-2])"
   ]
  },
  {
   "cell_type": "code",
   "execution_count": 4,
   "id": "21e40b39",
   "metadata": {},
   "outputs": [
    {
     "name": "stdout",
     "output_type": "stream",
     "text": [
      "ADAWITAHK\n"
     ]
    }
   ],
   "source": [
    "String = 'KHATIWADA'\n",
    "print(String[::-1])"
   ]
  },
  {
   "cell_type": "code",
   "execution_count": 20,
   "id": "fb46201d",
   "metadata": {},
   "outputs": [
    {
     "data": {
      "text/plain": [
       "['Hello', 'World']"
      ]
     },
     "execution_count": 20,
     "metadata": {},
     "output_type": "execute_result"
    }
   ],
   "source": [
    "String = 'Hello World'\n",
    "String.split()"
   ]
  },
  {
   "cell_type": "code",
   "execution_count": 21,
   "id": "57c3f05b",
   "metadata": {},
   "outputs": [
    {
     "data": {
      "text/plain": [
       "'Hi'"
      ]
     },
     "execution_count": 21,
     "metadata": {},
     "output_type": "execute_result"
    }
   ],
   "source": [
    "Str1= 'Hi Bidhan'\n",
    "Str1.split()[0]"
   ]
  },
  {
   "cell_type": "code",
   "execution_count": 22,
   "id": "7531853d",
   "metadata": {},
   "outputs": [
    {
     "data": {
      "text/plain": [
       "'Bidhan'"
      ]
     },
     "execution_count": 22,
     "metadata": {},
     "output_type": "execute_result"
    }
   ],
   "source": [
    "Str1= 'Hi Bidhan'\n",
    "Str1.split()[1]"
   ]
  },
  {
   "cell_type": "code",
   "execution_count": 23,
   "id": "99176bc0",
   "metadata": {},
   "outputs": [
    {
     "data": {
      "text/plain": [
       "'Hi Bidhan'"
      ]
     },
     "execution_count": 23,
     "metadata": {},
     "output_type": "execute_result"
    }
   ],
   "source": [
    "Str1= 'Hi Bidhan'\n",
    "Str1.split(',')[0]"
   ]
  },
  {
   "cell_type": "code",
   "execution_count": 25,
   "id": "9825c892",
   "metadata": {},
   "outputs": [
    {
     "name": "stdout",
     "output_type": "stream",
     "text": [
      "['My', 'Name', 'is', 'Bidhan', 'Age', 20, 2057]\n",
      "['My', 'Name', 'is', 'Bidhan', 'Khatiwada', 'Age', 20, 2057]\n"
     ]
    }
   ],
   "source": [
    "L = ['My','Name','is','Bidhan','Age',20]\n",
    "L.append(2057)\n",
    "print(L)\n",
    "L.insert(4,'Khatiwada')\n",
    "print(L)"
   ]
  },
  {
   "cell_type": "code",
   "execution_count": 26,
   "id": "816b6678",
   "metadata": {},
   "outputs": [
    {
     "name": "stdout",
     "output_type": "stream",
     "text": [
      "[1, 2, 3, 'Bidhan', 'Khatiwada', 4, 5, 6]\n"
     ]
    }
   ],
   "source": [
    "#adding list 2 to list 1 and vice-versa\n",
    "l1 = [1,2,3,'Bidhan']\n",
    "l2 = ['Khatiwada',4,5,6]\n",
    "l1.extend(l2)\n",
    "print(l1)"
   ]
  },
  {
   "cell_type": "code",
   "execution_count": 27,
   "id": "e7782fed",
   "metadata": {},
   "outputs": [
    {
     "name": "stdout",
     "output_type": "stream",
     "text": [
      "[4, 5, 6, 'Khatiwada', 'Bidhan', 1, 2, 3]\n"
     ]
    }
   ],
   "source": [
    "#adding list 2 to list 1 and vice-versa\n",
    "l1 = ['Bidhan',1,2,3]\n",
    "l2 = [4,5,6,'Khatiwada']\n",
    "l2.extend(l1)\n",
    "print(l2)"
   ]
  },
  {
   "cell_type": "code",
   "execution_count": 28,
   "id": "1d8770eb",
   "metadata": {},
   "outputs": [
    {
     "name": "stdout",
     "output_type": "stream",
     "text": [
      "21\n"
     ]
    }
   ],
   "source": [
    "#sum in a list\n",
    "l = [1,2,3,4,5,6]\n",
    "print(sum(l))"
   ]
  },
  {
   "cell_type": "code",
   "execution_count": 30,
   "id": "0459ce7a",
   "metadata": {},
   "outputs": [
    {
     "name": "stdout",
     "output_type": "stream",
     "text": [
      "4\n",
      "4\n",
      "3\n"
     ]
    }
   ],
   "source": [
    "#count of a individual element present in list\n",
    "l = [1,2,3,4,1,3,5,1,1,2,8,8,7,5,4,5,4,5,2,2,6,8,7,9]\n",
    "print(l.count(1))\n",
    "print(l.count(5))\n",
    "print(l.count(8))"
   ]
  },
  {
   "cell_type": "code",
   "execution_count": 34,
   "id": "ceaf9e23",
   "metadata": {},
   "outputs": [
    {
     "name": "stdout",
     "output_type": "stream",
     "text": [
      "6\n"
     ]
    }
   ],
   "source": [
    "#length of a list\n",
    "l = [1,2,3,4,5,6]\n",
    "print(len(l))"
   ]
  },
  {
   "cell_type": "code",
   "execution_count": 36,
   "id": "52e65fcd",
   "metadata": {},
   "outputs": [
    {
     "name": "stdout",
     "output_type": "stream",
     "text": [
      "2\n",
      "8\n"
     ]
    }
   ],
   "source": [
    "#minimum element of a list\n",
    "l =[2,3,4,5,6,8,6,3]\n",
    "print(min(l))\n",
    "print(max(l))"
   ]
  },
  {
   "cell_type": "code",
   "execution_count": 40,
   "id": "12992a63",
   "metadata": {},
   "outputs": [
    {
     "name": "stdout",
     "output_type": "stream",
     "text": [
      "[1, 2, 3, 4, 5, 6, 7, 8, 9]\n",
      "[9, 8, 7, 6, 5, 4, 3, 2, 1]\n"
     ]
    }
   ],
   "source": [
    "#sorting\n",
    "l = [1,2,3,9,4,8,5,6,7]\n",
    "l.sort()\n",
    "print(l)\n",
    "l.sort(reverse=True)\n",
    "print(l)"
   ]
  },
  {
   "cell_type": "code",
   "execution_count": 45,
   "id": "77911e62",
   "metadata": {},
   "outputs": [
    {
     "name": "stdout",
     "output_type": "stream",
     "text": [
      "6\n",
      "[1, 2, 3, 4, 5]\n",
      "1\n",
      "[2, 3, 4, 5]\n",
      "[3, 4, 5]\n"
     ]
    }
   ],
   "source": [
    "#deleting an element in a list\n",
    "l = [1,2,3,4,5,6]\n",
    "print(l.pop())\n",
    "print(l)\n",
    "print(l.pop(0))\n",
    "print(l)\n",
    "del l[0]\n",
    "print(l)"
   ]
  },
  {
   "cell_type": "code",
   "execution_count": 47,
   "id": "2b406d75",
   "metadata": {},
   "outputs": [
    {
     "name": "stdout",
     "output_type": "stream",
     "text": [
      "('Bidhan', 'Khatiwada', 'Pulchowk')\n",
      "3\n"
     ]
    }
   ],
   "source": [
    "#tuple(we cannot add,change,update or remove)\n",
    "tuple=(\"Bidhan\",\"Khatiwada\",\"Pulchowk\")\n",
    "print(tuple)\n",
    "print(len(tuple))\n"
   ]
  },
  {
   "cell_type": "code",
   "execution_count": 49,
   "id": "80b6e8e1",
   "metadata": {},
   "outputs": [
    {
     "name": "stdout",
     "output_type": "stream",
     "text": [
      "<class 'tuple'>\n"
     ]
    }
   ],
   "source": [
    "tuple = (\"apple\", \"banana\", \"cherry\")\n",
    "print(type(tuple))"
   ]
  },
  {
   "cell_type": "code",
   "execution_count": 51,
   "id": "789885ab",
   "metadata": {
    "scrolled": true
   },
   "outputs": [
    {
     "ename": "TypeError",
     "evalue": "'tuple' object is not callable",
     "output_type": "error",
     "traceback": [
      "\u001b[1;31m---------------------------------------------------------------------------\u001b[0m",
      "\u001b[1;31mTypeError\u001b[0m                                 Traceback (most recent call last)",
      "Cell \u001b[1;32mIn[51], line 2\u001b[0m\n\u001b[0;32m      1\u001b[0m \u001b[38;5;66;03m#tuple constructor(why not working)\u001b[39;00m\n\u001b[1;32m----> 2\u001b[0m thistuple \u001b[38;5;241m=\u001b[39m \u001b[38;5;28;43mtuple\u001b[39;49m\u001b[43m(\u001b[49m\u001b[43m)\u001b[49m\n\u001b[0;32m      3\u001b[0m thistuple \u001b[38;5;241m=\u001b[39m \u001b[38;5;28mtuple\u001b[39m((\u001b[38;5;124m\"\u001b[39m\u001b[38;5;124mBidhan\u001b[39m\u001b[38;5;124m\"\u001b[39m,\u001b[38;5;124m\"\u001b[39m\u001b[38;5;124mKhatiwada\u001b[39m\u001b[38;5;124m\"\u001b[39m,\u001b[38;5;124m\"\u001b[39m\u001b[38;5;124mPulchowk\u001b[39m\u001b[38;5;124m\"\u001b[39m))\n\u001b[0;32m      4\u001b[0m \u001b[38;5;28mprint\u001b[39m(thistuple)\n",
      "\u001b[1;31mTypeError\u001b[0m: 'tuple' object is not callable"
     ]
    }
   ],
   "source": [
    "#tuple constructor(why not working)\n",
    "thistuple = tuple((\"Bidhan\",\"Khatiwada\",\"Pulchowk\"))\n",
    "print(thistuple)"
   ]
  },
  {
   "cell_type": "code",
   "execution_count": 73,
   "id": "a046a061",
   "metadata": {},
   "outputs": [
    {
     "name": "stdout",
     "output_type": "stream",
     "text": [
      "('Pulchowk', 'Campus', 'Lalitpur')\n",
      "('Pulchowk', 'Campus', 'Lalitpur', 'Nepal')\n",
      "('Bidhan', 'Khatiwada', 'Pulchowk', 'Campus', 'Lalitpur')\n",
      "('Bidhan', 'Khatiwada', 'Pulchowk', 'Campus', 'Lalitpur', 'Nepal')\n",
      "('Pulchowk', 'Campus', 'Lalitpur')\n"
     ]
    }
   ],
   "source": [
    "#range in tuple\n",
    "tuple = (\"Bidhan\",\"Khatiwada\",\"Pulchowk\",\"Campus\",\"Lalitpur\",\"Nepal\")\n",
    "print(tuple[2:5])\n",
    "print(tuple[2:])\n",
    "print(tuple[:5])\n",
    "print(tuple[:])\n",
    "print(tuple[-4:-1])"
   ]
  },
  {
   "cell_type": "code",
   "execution_count": 78,
   "id": "b3cb3306",
   "metadata": {},
   "outputs": [
    {
     "name": "stdout",
     "output_type": "stream",
     "text": [
      "{1: 'One', 2: 'Two', 3: 'Three', 4: 'Four'}\n",
      "One Four\n",
      "{1: 'One', 2: 'Two', 3: 'Three', 4: 'Four', 5: 'Five'}\n",
      "{1: 'One', 2: 'Two', 4: 'Four', 5: 'Five'}\n"
     ]
    }
   ],
   "source": [
    "#dictionary(key-value)\n",
    "dict = {1:\"One\", 2:\"Two\", 3:\"Three\", 4:\"Four\"}\n",
    "print(dict)\n",
    "print(dict[1],dict[4])\n",
    "dict[5] = \"Five\"\n",
    "print(dict)\n",
    "dict.pop(3)\n",
    "print(dict)"
   ]
  },
  {
   "cell_type": "code",
   "execution_count": 79,
   "id": "5b14d234",
   "metadata": {},
   "outputs": [],
   "source": [
    "#python sets is just like a list where repititive element is no present there."
   ]
  },
  {
   "cell_type": "code",
   "execution_count": null,
   "id": "47a97619",
   "metadata": {},
   "outputs": [],
   "source": []
  }
 ],
 "metadata": {
  "kernelspec": {
   "display_name": "Python 3 (ipykernel)",
   "language": "python",
   "name": "python3"
  },
  "language_info": {
   "codemirror_mode": {
    "name": "ipython",
    "version": 3
   },
   "file_extension": ".py",
   "mimetype": "text/x-python",
   "name": "python",
   "nbconvert_exporter": "python",
   "pygments_lexer": "ipython3",
   "version": "3.9.5"
  }
 },
 "nbformat": 4,
 "nbformat_minor": 5
}
