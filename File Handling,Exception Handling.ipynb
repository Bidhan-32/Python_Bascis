{
 "cells": [
  {
   "cell_type": "code",
   "execution_count": 1,
   "id": "6be58cc0",
   "metadata": {},
   "outputs": [],
   "source": [
    "file1 = open(\"Bidhan.txt\",\"a\")"
   ]
  },
  {
   "cell_type": "code",
   "execution_count": 2,
   "id": "ce7c29b8",
   "metadata": {},
   "outputs": [],
   "source": [
    "file1.close()"
   ]
  },
  {
   "cell_type": "code",
   "execution_count": 21,
   "id": "8d32e495",
   "metadata": {},
   "outputs": [
    {
     "name": "stdout",
     "output_type": "stream",
     "text": [
      "Output of the content in the file is\n",
      "Hello Guys\n",
      "My name is Bidhan Khatiwada\n",
      "I live in Khthmandu Nepal\n",
      "\n"
     ]
    }
   ],
   "source": [
    "file1 = open(\"Bidhan.txt\",\"w\")\n",
    "L = [\"My name is Bidhan Khatiwada\\n\",\"I live in Khthmandu Nepal\"]\n",
    "file1.write(\"Hello Guys\\n\")\n",
    "file1.writelines(L)\n",
    "file1.close()\n",
    "\n",
    "file1 = open(\"Bidhan.txt\",\"r\")\n",
    "\n",
    "print(\"Output of the content in the file is\")\n",
    "print(file1.read())\n",
    "print()\n",
    "\n",
    "\n",
    "file1.close()\n"
   ]
  },
  {
   "cell_type": "code",
   "execution_count": null,
   "id": "8f638e52",
   "metadata": {},
   "outputs": [],
   "source": []
  }
 ],
 "metadata": {
  "kernelspec": {
   "display_name": "Python 3 (ipykernel)",
   "language": "python",
   "name": "python3"
  },
  "language_info": {
   "codemirror_mode": {
    "name": "ipython",
    "version": 3
   },
   "file_extension": ".py",
   "mimetype": "text/x-python",
   "name": "python",
   "nbconvert_exporter": "python",
   "pygments_lexer": "ipython3",
   "version": "3.9.5"
  }
 },
 "nbformat": 4,
 "nbformat_minor": 5
}
